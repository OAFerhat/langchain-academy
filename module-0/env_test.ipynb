{
 "cells": [
  {
   "cell_type": "markdown",
   "metadata": {},
   "source": [
    "# Environment Variables Test\n",
    "Let's verify our environment setup and API key access."
   ]
  },
  {
   "cell_type": "code",
   "execution_count": 1,
   "metadata": {},
   "outputs": [
    {
     "name": "stdout",
     "output_type": "stream",
     "text": [
      "OpenAI API Key exists: True\n",
      "Langchain API Key exists: True\n",
      "Tavily API Key exists: True\n"
     ]
    }
   ],
   "source": [
    "import os\n",
    "from dotenv import load_dotenv\n",
    "import openai\n",
    "\n",
    "# Load environment variables from the root .env file\n",
    "load_dotenv('../.env')\n",
    "\n",
    "# Check if we can access the OpenAI API key\n",
    "openai_key = os.getenv('OPENAI_API_KEY')\n",
    "print(f\"OpenAI API Key exists: {bool(openai_key)}\")\n",
    "\n",
    "# Check other environment variables\n",
    "langchain_key = os.getenv('LANGCHAIN_API_KEY')\n",
    "print(f\"Langchain API Key exists: {bool(langchain_key)}\")\n",
    "\n",
    "tavily_key = os.getenv('TAVILY_API_KEY')\n",
    "print(f\"Tavily API Key exists: {bool(tavily_key)}\")"
   ]
  },
  {
   "cell_type": "code",
   "execution_count": 2,
   "metadata": {},
   "outputs": [
    {
     "name": "stdout",
     "output_type": "stream",
     "text": [
      "OpenAI API Test Success!\n",
      "Response: Hello there! How can I assist you today?\n"
     ]
    }
   ],
   "source": [
    "# Test OpenAI API connection\n",
    "from openai import OpenAI\n",
    "\n",
    "client = OpenAI()\n",
    "\n",
    "try:\n",
    "    response = client.chat.completions.create(\n",
    "        model=\"gpt-3.5-turbo\",\n",
    "        messages=[{\"role\": \"user\", \"content\": \"Say hello!\"}]\n",
    "    )\n",
    "    print(\"OpenAI API Test Success!\")\n",
    "    print(f\"Response: {response.choices[0].message.content}\")\n",
    "except Exception as e:\n",
    "    print(f\"Error testing OpenAI API: {str(e)}\")"
   ]
  },
  {
   "cell_type": "code",
   "execution_count": null,
   "metadata": {},
   "outputs": [],
   "source": []
  }
 ],
 "metadata": {
  "kernelspec": {
   "display_name": "Python 3 (ipykernel)",
   "language": "python",
   "name": "python3"
  },
  "language_info": {
   "codemirror_mode": {
    "name": "ipython",
    "version": 3
   },
   "file_extension": ".py",
   "mimetype": "text/x-python",
   "name": "python",
   "nbconvert_exporter": "python",
   "pygments_lexer": "ipython3",
   "version": "3.13.0"
  }
 },
 "nbformat": 4,
 "nbformat_minor": 4
}
